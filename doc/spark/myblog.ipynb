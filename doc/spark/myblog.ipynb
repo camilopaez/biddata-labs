{
 "cells": [
  {
   "cell_type": "code",
   "execution_count": 1,
   "metadata": {},
   "outputs": [
    {
     "data": {
      "application/vnd.jupyter.widget-view+json": {
       "model_id": "149de90d6a4e41bb8c37df1e9dd35593",
       "version_major": 2,
       "version_minor": 0
      },
      "text/plain": [
       "VBox()"
      ]
     },
     "metadata": {},
     "output_type": "display_data"
    },
    {
     "name": "stdout",
     "output_type": "stream",
     "text": [
      "Starting Spark application\n"
     ]
    },
    {
     "data": {
      "text/html": [
       "<table>\n",
       "<tr><th>ID</th><th>YARN Application ID</th><th>Kind</th><th>State</th><th>Spark UI</th><th>Driver log</th><th>Current session?</th></tr><tr><td>0</td><td>application_1588550863632_0001</td><td>pyspark</td><td>idle</td><td><a target=\"_blank\" href=\"http://ip-172-31-84-168.ec2.internal:20888/proxy/application_1588550863632_0001/\">Link</a></td><td><a target=\"_blank\" href=\"http://ip-172-31-93-255.ec2.internal:8042/node/containerlogs/container_1588550863632_0001_01_000001/livy\">Link</a></td><td>✔</td></tr></table>"
      ],
      "text/plain": [
       "<IPython.core.display.HTML object>"
      ]
     },
     "metadata": {},
     "output_type": "display_data"
    },
    {
     "data": {
      "application/vnd.jupyter.widget-view+json": {
       "model_id": "",
       "version_major": 2,
       "version_minor": 0
      },
      "text/plain": [
       "FloatProgress(value=0.0, bar_style='info', description='Progress:', layout=Layout(height='25px', width='50%'),…"
      ]
     },
     "metadata": {},
     "output_type": "display_data"
    },
    {
     "name": "stdout",
     "output_type": "stream",
     "text": [
      "SparkSession available as 'spark'.\n"
     ]
    },
    {
     "data": {
      "application/vnd.jupyter.widget-view+json": {
       "model_id": "",
       "version_major": 2,
       "version_minor": 0
      },
      "text/plain": [
       "FloatProgress(value=0.0, bar_style='info', description='Progress:', layout=Layout(height='25px', width='50%'),…"
      ]
     },
     "metadata": {},
     "output_type": "display_data"
    }
   ],
   "source": [
    "from pyspark.sql import SparkSession"
   ]
  },
  {
   "cell_type": "code",
   "execution_count": 2,
   "metadata": {},
   "outputs": [
    {
     "data": {
      "application/vnd.jupyter.widget-view+json": {
       "model_id": "054986fde57548cd82e20a5aaf78bd19",
       "version_major": 2,
       "version_minor": 0
      },
      "text/plain": [
       "VBox()"
      ]
     },
     "metadata": {},
     "output_type": "display_data"
    },
    {
     "data": {
      "application/vnd.jupyter.widget-view+json": {
       "model_id": "",
       "version_major": 2,
       "version_minor": 0
      },
      "text/plain": [
       "FloatProgress(value=0.0, bar_style='info', description='Progress:', layout=Layout(height='25px', width='50%'),…"
      ]
     },
     "metadata": {},
     "output_type": "display_data"
    }
   ],
   "source": [
    "spark = SparkSession.builder.appName('data_processing').getOrCreate()"
   ]
  },
  {
   "cell_type": "code",
   "execution_count": 12,
   "metadata": {},
   "outputs": [
    {
     "data": {
      "application/vnd.jupyter.widget-view+json": {
       "model_id": "3b81397305f24a32b0cf6b38a5214004",
       "version_major": 2,
       "version_minor": 0
      },
      "text/plain": [
       "VBox()"
      ]
     },
     "metadata": {},
     "output_type": "display_data"
    },
    {
     "data": {
      "application/vnd.jupyter.widget-view+json": {
       "model_id": "",
       "version_major": 2,
       "version_minor": 0
      },
      "text/plain": [
       "FloatProgress(value=0.0, bar_style='info', description='Progress:', layout=Layout(height='25px', width='50%'),…"
      ]
     },
     "metadata": {},
     "output_type": "display_data"
    }
   ],
   "source": [
    "df=spark.read.csv('s3://mytelematicabucket/datasets/Casos_positivos_de_COVID-19_en_Colombia.csv',inferSchema=True,header=True)"
   ]
  },
  {
   "cell_type": "code",
   "execution_count": 13,
   "metadata": {},
   "outputs": [
    {
     "data": {
      "application/vnd.jupyter.widget-view+json": {
       "model_id": "588df544c5ad4779b44f9674fe8a1cbb",
       "version_major": 2,
       "version_minor": 0
      },
      "text/plain": [
       "VBox()"
      ]
     },
     "metadata": {},
     "output_type": "display_data"
    },
    {
     "data": {
      "application/vnd.jupyter.widget-view+json": {
       "model_id": "",
       "version_major": 2,
       "version_minor": 0
      },
      "text/plain": [
       "FloatProgress(value=0.0, bar_style='info', description='Progress:', layout=Layout(height='25px', width='50%'),…"
      ]
     },
     "metadata": {},
     "output_type": "display_data"
    }
   ],
   "source": [
    "from pyspark.sql.types import StringType,DoubleType,IntegerType\n"
   ]
  },
  {
   "cell_type": "code",
   "execution_count": 15,
   "metadata": {},
   "outputs": [
    {
     "data": {
      "application/vnd.jupyter.widget-view+json": {
       "model_id": "80176db7dbfc4e36a3c8150ec7380884",
       "version_major": 2,
       "version_minor": 0
      },
      "text/plain": [
       "VBox()"
      ]
     },
     "metadata": {},
     "output_type": "display_data"
    },
    {
     "data": {
      "application/vnd.jupyter.widget-view+json": {
       "model_id": "",
       "version_major": 2,
       "version_minor": 0
      },
      "text/plain": [
       "FloatProgress(value=0.0, bar_style='info', description='Progress:', layout=Layout(height='25px', width='50%'),…"
      ]
     },
     "metadata": {},
     "output_type": "display_data"
    },
    {
     "name": "stdout",
     "output_type": "stream",
     "text": [
      "+----------+-----------------------+---------------+-------------------+------------------------+----------+----+----+-----------+------+-------------------------+-----------------------+---------------+-----------------------+-----------------------+-----------------------+--------------------+\n",
      "|ID de caso|Fecha de notificación  |Codigo DIVIPOLA|Ciudad de ubicación|Departamento o Distrito |atención  |Edad|Sexo|Tipo       |Estado|País de procedencia      |FIS                    |Fecha de muerte|Fecha diagnostico      |Fecha recuperado       |fecha reporte web      |edad_despues_10_años|\n",
      "+----------+-----------------------+---------------+-------------------+------------------------+----------+----+----+-----------+------+-------------------------+-----------------------+---------------+-----------------------+-----------------------+-----------------------+--------------------+\n",
      "|1         |2020-03-02T00:00:00.000|11001          |Bogotá D.C.        |Bogotá D.C.             |Recuperado|19  |F   |Importado  |Leve  |Italia                   |2020-02-27T00:00:00.000|-   -          |2020-03-06T00:00:00.000|2020-03-13T00:00:00.000|2020-03-06T00:00:00.000|29.0                |\n",
      "|2         |2020-03-06T00:00:00.000|76111          |Guadalajara de Buga|Valle del Cauca         |Recuperado|34  |M   |Importado  |Leve  |España                   |2020-03-04T00:00:00.000|-   -          |2020-03-09T00:00:00.000|2020-03-19T00:00:00.000|2020-03-09T00:00:00.000|44.0                |\n",
      "|3         |2020-03-07T00:00:00.000|5001           |Medellín           |Antioquia               |Recuperado|50  |F   |Importado  |Leve  |España                   |2020-02-29T00:00:00.000|-   -          |2020-03-09T00:00:00.000|2020-03-15T00:00:00.000|2020-03-09T00:00:00.000|60.0                |\n",
      "|4         |2020-03-09T00:00:00.000|5001           |Medellín           |Antioquia               |Recuperado|55  |M   |Relacionado|Leve  |Colombia                 |2020-03-06T00:00:00.000|-   -          |2020-03-11T00:00:00.000|2020-03-26T00:00:00.000|2020-03-11T00:00:00.000|65.0                |\n",
      "|5         |2020-03-09T00:00:00.000|5001           |Medellín           |Antioquia               |Recuperado|25  |M   |Relacionado|Leve  |Colombia                 |2020-03-08T00:00:00.000|-   -          |2020-03-11T00:00:00.000|2020-03-23T00:00:00.000|2020-03-11T00:00:00.000|35.0                |\n",
      "|6         |2020-03-10T00:00:00.000|5360           |Itagüí             |Antioquia               |Recuperado|27  |F   |Relacionado|Leve  |Colombia                 |2020-03-06T00:00:00.000|-   -          |2020-03-11T00:00:00.000|2020-03-26T00:00:00.000|2020-03-11T00:00:00.000|37.0                |\n",
      "|7         |2020-03-08T00:00:00.000|13001          |Cartagena de Indias|Cartagena D.T. y C.     |Recuperado|85  |F   |Importado  |Leve  |Estados Unidos de América|2020-03-02T00:00:00.000|-   -          |2020-03-11T00:00:00.000|2020-03-17T00:00:00.000|2020-03-11T00:00:00.000|95.0                |\n",
      "|8         |2020-03-09T00:00:00.000|11001          |Bogotá D.C.        |Bogotá D.C.             |Recuperado|22  |F   |Importado  |Leve  |España                   |2020-03-06T00:00:00.000|-   -          |2020-03-11T00:00:00.000|2020-03-21T00:00:00.000|2020-03-11T00:00:00.000|32.0                |\n",
      "|9         |2020-03-08T00:00:00.000|11001          |Bogotá D.C.        |Bogotá D.C.             |Recuperado|28  |F   |Importado  |Leve  |España                   |2020-03-07T00:00:00.000|-   -          |2020-03-11T00:00:00.000|2020-03-23T00:00:00.000|2020-03-11T00:00:00.000|38.0                |\n",
      "|10        |2020-03-12T00:00:00.000|11001          |Bogotá D.C.        |Bogotá D.C.             |Recuperado|36  |F   |Importado  |Leve  |España                   |2020-03-06T00:00:00.000|-   -          |2020-03-12T00:00:00.000|2020-03-21T00:00:00.000|2020-03-12T00:00:00.000|46.0                |\n",
      "+----------+-----------------------+---------------+-------------------+------------------------+----------+----+----+-----------+------+-------------------------+-----------------------+---------------+-----------------------+-----------------------+-----------------------+--------------------+\n",
      "only showing top 10 rows"
     ]
    }
   ],
   "source": [
    "df.withColumn(\"edad_despues_10_años\",(df[\"Edad\"]+10)).show(10,False)"
   ]
  },
  {
   "cell_type": "code",
   "execution_count": 17,
   "metadata": {},
   "outputs": [
    {
     "data": {
      "application/vnd.jupyter.widget-view+json": {
       "model_id": "d71f129751954ec8853f19dc59f0b31f",
       "version_major": 2,
       "version_minor": 0
      },
      "text/plain": [
       "VBox()"
      ]
     },
     "metadata": {},
     "output_type": "display_data"
    },
    {
     "data": {
      "application/vnd.jupyter.widget-view+json": {
       "model_id": "",
       "version_major": 2,
       "version_minor": 0
      },
      "text/plain": [
       "FloatProgress(value=0.0, bar_style='info', description='Progress:', layout=Layout(height='25px', width='50%'),…"
      ]
     },
     "metadata": {},
     "output_type": "display_data"
    },
    {
     "name": "stdout",
     "output_type": "stream",
     "text": [
      "+-------------------+-----+\n",
      "|Ciudad de ubicación|count|\n",
      "+-------------------+-----+\n",
      "|Bogotá D.C.        |2958 |\n",
      "|Cali               |840  |\n",
      "|Villavicencio      |544  |\n",
      "|Cartagena de Indias|326  |\n",
      "|Medellín           |285  |\n",
      "+-------------------+-----+\n",
      "only showing top 5 rows"
     ]
    }
   ],
   "source": [
    "df.groupBy('Ciudad de ubicación').count().orderBy('count', ascending=False).show(5,False)"
   ]
  },
  {
   "cell_type": "code",
   "execution_count": 18,
   "metadata": {},
   "outputs": [
    {
     "data": {
      "application/vnd.jupyter.widget-view+json": {
       "model_id": "4ca5e1f5429d4227915193b0fe125c3f",
       "version_major": 2,
       "version_minor": 0
      },
      "text/plain": [
       "VBox()"
      ]
     },
     "metadata": {},
     "output_type": "display_data"
    },
    {
     "data": {
      "application/vnd.jupyter.widget-view+json": {
       "model_id": "",
       "version_major": 2,
       "version_minor": 0
      },
      "text/plain": [
       "FloatProgress(value=0.0, bar_style='info', description='Progress:', layout=Layout(height='25px', width='50%'),…"
      ]
     },
     "metadata": {},
     "output_type": "display_data"
    },
    {
     "name": "stdout",
     "output_type": "stream",
     "text": [
      "+----------+---------------------+---------------+-------------------+------------------------+----------+----+----+-----------+------+-------------------+--------------------+---------------+--------------------+--------------------+--------------------+\n",
      "|ID de caso|Fecha de notificación|Codigo DIVIPOLA|Ciudad de ubicación|Departamento o Distrito |  atención|Edad|Sexo|       Tipo|Estado|País de procedencia|                 FIS|Fecha de muerte|   Fecha diagnostico|    Fecha recuperado|   fecha reporte web|\n",
      "+----------+---------------------+---------------+-------------------+------------------------+----------+----+----+-----------+------+-------------------+--------------------+---------------+--------------------+--------------------+--------------------+\n",
      "|         3| 2020-03-07T00:00:...|           5001|           Medellín|               Antioquia|Recuperado|  50|   F|  Importado|  Leve|             España|2020-02-29T00:00:...|          -   -|2020-03-09T00:00:...|2020-03-15T00:00:...|2020-03-09T00:00:...|\n",
      "|         4| 2020-03-09T00:00:...|           5001|           Medellín|               Antioquia|Recuperado|  55|   M|Relacionado|  Leve|           Colombia|2020-03-06T00:00:...|          -   -|2020-03-11T00:00:...|2020-03-26T00:00:...|2020-03-11T00:00:...|\n",
      "|         5| 2020-03-09T00:00:...|           5001|           Medellín|               Antioquia|Recuperado|  25|   M|Relacionado|  Leve|           Colombia|2020-03-08T00:00:...|          -   -|2020-03-11T00:00:...|2020-03-23T00:00:...|2020-03-11T00:00:...|\n",
      "|        20| 2020-03-11T00:00:...|           5001|           Medellín|               Antioquia|Recuperado|  26|   F|Relacionado|  Leve|           Colombia|2020-03-09T00:00:...|          -   -|2020-03-14T00:00:...|2020-03-24T00:00:...|2020-03-14T00:00:...|\n",
      "|        21| 2020-03-11T00:00:...|           5001|           Medellín|               Antioquia|Recuperado|  28|   M|Relacionado|  Leve|           Colombia|2020-03-10T00:00:...|          -   -|2020-03-14T00:00:...|2020-04-10T00:00:...|2020-03-14T00:00:...|\n",
      "|        32| 2020-03-11T00:00:...|           5001|           Medellín|               Antioquia|Recuperado|  55|   M|  Importado|  Leve|             España|2020-03-10T00:00:...|          -   -|2020-03-15T00:00:...|2020-03-25T00:00:...|2020-03-15T00:00:...|\n",
      "|       106| 2020-03-19T00:00:...|           5001|           Medellín|               Antioquia|Recuperado|  44|   M|  Importado|  Leve|             España|2020-03-13T00:00:...|          -   -|2020-03-19T00:00:...|2020-03-28T00:00:...|2020-03-19T00:00:...|\n",
      "|       107| 2020-03-12T00:00:...|           5001|           Medellín|               Antioquia|Recuperado|  56|   M|  Importado|  Leve|             España|2020-03-10T00:00:...|          -   -|2020-03-19T00:00:...|2020-03-30T00:00:...|2020-03-19T00:00:...|\n",
      "|       108| 2020-03-17T00:00:...|           5001|           Medellín|               Antioquia|Recuperado|  57|   F|  Importado|  Leve|             España|2020-03-14T00:00:...|          -   -|2020-03-19T00:00:...|2020-03-28T00:00:...|2020-03-19T00:00:...|\n",
      "|       131| 2020-03-15T00:00:...|           5001|           Medellín|               Antioquia|Recuperado|  22|   F|  Importado|  Leve|             España|2020-03-13T00:00:...|          -   -|2020-03-20T00:00:...|2020-03-28T00:00:...|2020-03-20T00:00:...|\n",
      "|       135| 2020-03-17T00:00:...|           5001|           Medellín|               Antioquia|Recuperado|  44|   F|  Importado|  Leve|           Alemania|2020-03-16T00:00:...|          -   -|2020-03-20T00:00:...|2020-04-01T00:00:...|2020-03-20T00:00:...|\n",
      "|       136| 2020-03-17T00:00:...|           5001|           Medellín|               Antioquia|Recuperado|  37|   M|Relacionado|  Leve|           Colombia|2020-03-13T00:00:...|          -   -|2020-03-20T00:00:...|2020-04-13T00:00:...|2020-03-20T00:00:...|\n",
      "|       141| 2020-03-17T00:00:...|           5001|           Medellín|               Antioquia|Recuperado|  62|   F|  Importado|  Leve|            Croacia|2020-03-10T00:00:...|          -   -|2020-03-20T00:00:...|2020-03-25T00:00:...|2020-03-20T00:00:...|\n",
      "|       142| 2020-03-20T00:00:...|           5001|           Medellín|               Antioquia|Recuperado|  35|   F|  Importado|  Leve|             Panamá|2020-03-14T00:00:...|          -   -|2020-03-20T00:00:...|2020-03-29T00:00:...|2020-03-20T00:00:...|\n",
      "|       144| 2020-03-20T00:00:...|           5001|           Medellín|               Antioquia|      Casa|  41|   M|  Importado|  Leve|             Panamá|2020-03-14T00:00:...|          -   -|2020-03-20T00:00:...|               -   -|2020-03-20T00:00:...|\n",
      "|       145| 2020-03-20T00:00:...|           5001|           Medellín|               Antioquia|Recuperado|  18|   F|Relacionado|  Leve|           Colombia|2020-03-14T00:00:...|          -   -|2020-03-20T00:00:...|2020-04-04T00:00:...|2020-03-20T00:00:...|\n",
      "|       198| 2020-03-18T00:00:...|           5001|           Medellín|               Antioquia|Recuperado|  39|   M|  Importado|  Leve|             España|2020-03-02T00:00:...|          -   -|2020-03-21T00:00:...|2020-03-31T00:00:...|2020-03-21T00:00:...|\n",
      "|       237| 2020-03-19T00:00:...|           5001|           Medellín|               Antioquia|Recuperado|  32|   M|  Importado|  Leve|             España|2020-03-09T00:00:...|          -   -|2020-03-22T00:00:...|2020-04-09T00:00:...|2020-03-22T00:00:...|\n",
      "|       238| 2020-03-16T00:00:...|           5001|           Medellín|               Antioquia|      Casa|  61|   F|  Importado|  Leve|             España|2020-03-14T00:00:...|          -   -|2020-03-22T00:00:...|               -   -|2020-03-22T00:00:...|\n",
      "|       263| 2020-03-21T00:00:...|           5001|           Medellín|               Antioquia|Recuperado|  59|   M|  Importado|  Leve|             España|2020-03-16T00:00:...|          -   -|2020-03-23T00:00:...|2020-03-30T00:00:...|2020-03-23T00:00:...|\n",
      "+----------+---------------------+---------------+-------------------+------------------------+----------+----+----+-----------+------+-------------------+--------------------+---------------+--------------------+--------------------+--------------------+\n",
      "only showing top 20 rows"
     ]
    }
   ],
   "source": [
    "df.filter(df['Ciudad de ubicación']=='Medellín').show()"
   ]
  },
  {
   "cell_type": "code",
   "execution_count": 20,
   "metadata": {},
   "outputs": [
    {
     "data": {
      "application/vnd.jupyter.widget-view+json": {
       "model_id": "e3fae626767848939424606d71485d02",
       "version_major": 2,
       "version_minor": 0
      },
      "text/plain": [
       "VBox()"
      ]
     },
     "metadata": {},
     "output_type": "display_data"
    },
    {
     "data": {
      "application/vnd.jupyter.widget-view+json": {
       "model_id": "",
       "version_major": 2,
       "version_minor": 0
      },
      "text/plain": [
       "FloatProgress(value=0.0, bar_style='info', description='Progress:', layout=Layout(height='25px', width='50%'),…"
      ]
     },
     "metadata": {},
     "output_type": "display_data"
    }
   ],
   "source": [
    "write_uri='s3://mytelematicabucket/df_csv'"
   ]
  },
  {
   "cell_type": "code",
   "execution_count": 21,
   "metadata": {},
   "outputs": [
    {
     "data": {
      "application/vnd.jupyter.widget-view+json": {
       "model_id": "5b7bc8b863dc47d1a69d5d068c9b060a",
       "version_major": 2,
       "version_minor": 0
      },
      "text/plain": [
       "VBox()"
      ]
     },
     "metadata": {},
     "output_type": "display_data"
    },
    {
     "data": {
      "application/vnd.jupyter.widget-view+json": {
       "model_id": "",
       "version_major": 2,
       "version_minor": 0
      },
      "text/plain": [
       "FloatProgress(value=0.0, bar_style='info', description='Progress:', layout=Layout(height='25px', width='50%'),…"
      ]
     },
     "metadata": {},
     "output_type": "display_data"
    }
   ],
   "source": [
    "df.coalesce(1).write.format(\"csv\").option(\"header\",\"true\").save(write_uri)"
   ]
  }
 ],
 "metadata": {
  "kernelspec": {
   "display_name": "PySpark",
   "language": "",
   "name": "pysparkkernel"
  },
  "language_info": {
   "codemirror_mode": {
    "name": "python",
    "version": 2
   },
   "mimetype": "text/x-python",
   "name": "pyspark",
   "pygments_lexer": "python2"
  }
 },
 "nbformat": 4,
 "nbformat_minor": 4
}
